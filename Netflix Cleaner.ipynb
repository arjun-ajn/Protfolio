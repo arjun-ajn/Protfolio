{
 "cells": [
  {
   "attachments": {},
   "cell_type": "markdown",
   "metadata": {},
   "source": [
    "# Netflix Watch Log ETL\n",
    "### This notebook performs ETL for a netflix watch log data, as well as replace personal information so that it's not exposed to the public."
   ]
  },
  {
   "cell_type": "code",
   "execution_count": null,
   "metadata": {},
   "outputs": [],
   "source": [
    "# Import libraries\n",
    "import pandas as pd\n",
    "import datetime as dt\n",
    "import os\n",
    "import string\n",
    "import random"
   ]
  },
  {
   "attachments": {},
   "cell_type": "markdown",
   "metadata": {},
   "source": [
    "Collect all source files"
   ]
  },
  {
   "cell_type": "code",
   "execution_count": null,
   "metadata": {},
   "outputs": [],
   "source": [
    "# Set root path\n",
    "mainFolder = \"./Netflix Watch Log/\"\n",
    "sourceFolder = \"./Netflix Watch Log/Source/\"\n",
    "\n",
    "# Initialiize dataset\n",
    "dataset = pd.DataFrame()\n",
    "\n",
    "# group all related source files in a list to get data from all realated files\n",
    "listDeviceFiles = [fn for fn in os.listdir(sourceFolder) if \"Devices\" in fn]\n",
    "listProfileFiles = [fn for fn in os.listdir(sourceFolder) if \"Profiles\" in fn]\n",
    "listClickstreamFiles = [fn for fn in os.listdir(sourceFolder) if \"Clickstream\" in fn]\n",
    "listSearchHistory = [fn for fn in os.listdir(sourceFolder) if \"SearchHistory\" in fn]\n",
    "listViewingActivity = [fn for fn in os.listdir(sourceFolder) if \"ViewingActivity\" in fn]"
   ]
  },
  {
   "cell_type": "code",
   "execution_count": null,
   "metadata": {},
   "outputs": [],
   "source": [
    "# read all Profiles files\n",
    "datalist = [pd.read_csv(sourceFolder+currFile) for currFile in listProfileFiles]\n",
    "dataset = pd.concat(datalist)\n",
    "dataset.drop(columns=dataset.columns[1:], inplace=True)"
   ]
  },
  {
   "cell_type": "code",
   "execution_count": null,
   "metadata": {},
   "outputs": [],
   "source": [
    "# Replace profile names with key \"User\" suffiixed with index of existing profile name value\n",
    "listProfiles=list(dataset['Profile Name'].value_counts().index)\n",
    "ProfileNameDict={profile:\"User \" + str(listProfiles.index(profile)) for profile in listProfiles}  # Re-usable dictionary for profile name\n",
    "dataset.replace({\"Profile Name\": ProfileNameDict},inplace=True)\n",
    "ProfileNameDict"
   ]
  },
  {
   "cell_type": "code",
   "execution_count": null,
   "metadata": {},
   "outputs": [],
   "source": [
    "dataset"
   ]
  },
  {
   "cell_type": "code",
   "execution_count": null,
   "metadata": {},
   "outputs": [],
   "source": [
    "dataset.to_csv(mainFolder+\"AllProfiles.csv\", index=False)"
   ]
  },
  {
   "cell_type": "code",
   "execution_count": null,
   "metadata": {},
   "outputs": [],
   "source": [
    "# read all Devices files\n",
    "datalist = [pd.read_csv(sourceFolder+currFile) for currFile in listDeviceFiles]\n",
    "dataset = pd.concat(datalist)"
   ]
  },
  {
   "cell_type": "code",
   "execution_count": null,
   "metadata": {},
   "outputs": [],
   "source": [
    "# Replace all Device - Profile name\n",
    "dataset.replace({\"Profile Name\": ProfileNameDict},inplace=True)"
   ]
  },
  {
   "cell_type": "code",
   "execution_count": null,
   "metadata": {},
   "outputs": [],
   "source": [
    "# Replace all Devices - Esn\n",
    "listEsn=list(dataset['Esn'].value_counts().index)\n",
    "esnDict={esn:\"Esn \" + str(listEsn.index(esn)) for esn in listEsn}\n",
    "dataset.replace({\"Esn\": esnDict},inplace=True)"
   ]
  },
  {
   "cell_type": "code",
   "execution_count": null,
   "metadata": {},
   "outputs": [],
   "source": [
    "# Replace all Devices - Device Types\n",
    "listDeviceTypes=list(dataset['Device Type'].value_counts().index)\n",
    "DeviceTypesDict={deviceType:\"Device Type \" + str(listDeviceTypes.index(deviceType)) for deviceType in listDeviceTypes}  # Re-usable dictionary for Device Types\n",
    "dataset.replace({\"Device Type\": DeviceTypesDict},inplace=True)"
   ]
  },
  {
   "cell_type": "code",
   "execution_count": null,
   "metadata": {},
   "outputs": [],
   "source": [
    "# Remove deactivated profiles\n",
    "dataset=dataset[dataset['Deactivation Time'].isnull()]"
   ]
  },
  {
   "cell_type": "code",
   "execution_count": null,
   "metadata": {},
   "outputs": [],
   "source": [
    "# Extrack Date & Time\n",
    "dataset['First Playback Date'] = pd.to_datetime(dataset[\"Acct First Playback Date\"]).dt.date\n",
    "dataset['First Playback Time'] = pd.to_datetime(dataset[\"Acct First Playback Date\"]).dt.time\n",
    "\n",
    "dataset['Last Playback Date'] = pd.to_datetime(dataset[\"Acct Last Playback Date\"]).dt.date\n",
    "dataset['Last Playback Time'] = pd.to_datetime(dataset[\"Acct Last Playback Date\"]).dt.time"
   ]
  },
  {
   "cell_type": "code",
   "execution_count": null,
   "metadata": {},
   "outputs": [],
   "source": [
    "# ['Profile Name', 'Esn', 'Device Type', 'First Playback Date', 'First Playback Time', 'Last Playback Date', 'Last Playback Time']\n",
    "dataset.drop(columns=['Acct First Playback Date',\n",
    "       'Acct Last Playback Date',\n",
    "       'Acct First Playback Date For User Generated Plays',\n",
    "       'Acct Last Playback Date For User Generated Plays',\n",
    "       'Profile First Playback Date', 'Profile Last Playback Date',\n",
    "       'Profile First Playback Date For User Generated Plays',\n",
    "       'Profile Last Playback Date For User Generated Plays',\n",
    "       'Deactivation Time'], inplace=True)"
   ]
  },
  {
   "cell_type": "code",
   "execution_count": null,
   "metadata": {},
   "outputs": [],
   "source": [
    "dataset"
   ]
  },
  {
   "cell_type": "code",
   "execution_count": null,
   "metadata": {},
   "outputs": [],
   "source": [
    "dataset.to_csv(mainFolder+\"AllDevices.csv\", index=False)"
   ]
  },
  {
   "cell_type": "code",
   "execution_count": null,
   "metadata": {},
   "outputs": [],
   "source": [
    "# read all Clickstream files\n",
    "datalist = [pd.read_csv(sourceFolder+currFile) for currFile in listClickstreamFiles]\n",
    "dataset = pd.concat(datalist)"
   ]
  },
  {
   "cell_type": "code",
   "execution_count": null,
   "metadata": {},
   "outputs": [],
   "source": [
    "# Replace all Clickstream - Profile name\n",
    "dataset.replace({\"Profile Name\": ProfileNameDict},inplace=True)"
   ]
  },
  {
   "cell_type": "code",
   "execution_count": null,
   "metadata": {},
   "outputs": [],
   "source": [
    "# Replace \"Source\" value with key \"Source\" suffixed by index of the source name\n",
    "listSources=list(dataset['Source'].value_counts().index)\n",
    "sourceDict={source:\"Source \" + str(listSources.index(source)) for source in listSources}\n",
    "dataset.replace({\"Source\": sourceDict},inplace=True)"
   ]
  },
  {
   "cell_type": "code",
   "execution_count": null,
   "metadata": {},
   "outputs": [],
   "source": [
    "# Extrack Date & Time\n",
    "dataset['Click Date'] = pd.to_datetime(dataset[\"Click Utc Ts\"]).dt.date\n",
    "dataset['Click Time'] = pd.to_datetime(dataset[\"Click Utc Ts\"]).dt.time"
   ]
  },
  {
   "cell_type": "code",
   "execution_count": null,
   "metadata": {},
   "outputs": [],
   "source": [
    "# Remove unuwanted columns\n",
    "dataset.drop(columns=[\"Referrer Url\", \"Webpage Url\", \"Click Utc Ts\"], inplace=True)"
   ]
  },
  {
   "cell_type": "code",
   "execution_count": null,
   "metadata": {},
   "outputs": [],
   "source": [
    "dataset"
   ]
  },
  {
   "cell_type": "code",
   "execution_count": null,
   "metadata": {},
   "outputs": [],
   "source": [
    "dataset.to_csv(mainFolder+\"AllClickstream.csv\", index=False)"
   ]
  },
  {
   "cell_type": "code",
   "execution_count": null,
   "metadata": {},
   "outputs": [],
   "source": [
    "# read all SearchHistory files\n",
    "datalist = [pd.read_csv(sourceFolder+currFile) for currFile in listSearchHistory]\n",
    "dataset = pd.concat(datalist)"
   ]
  },
  {
   "cell_type": "code",
   "execution_count": null,
   "metadata": {},
   "outputs": [],
   "source": [
    "# Replace all SearchHistory - Profile name\n",
    "dataset.replace({\"Profile Name\": ProfileNameDict},inplace=True)"
   ]
  },
  {
   "cell_type": "code",
   "execution_count": null,
   "metadata": {},
   "outputs": [],
   "source": [
    "# Replace all SearchHistory - Device\n",
    "listDevices=list(dataset['Device'].value_counts().index)\n",
    "devicesDict={device:\"Device \" + str(listDevices.index(device)) for device in listDevices}\n",
    "dataset.replace({\"Device\": devicesDict},inplace=True)"
   ]
  },
  {
   "cell_type": "code",
   "execution_count": null,
   "metadata": {},
   "outputs": [],
   "source": [
    "# Extrack Date & Time\n",
    "dataset['Date Searched'] = pd.to_datetime(dataset[\"Utc Timestamp\"]).dt.date\n",
    "dataset['Time Searched'] = pd.to_datetime(dataset[\"Utc Timestamp\"]).dt.time"
   ]
  },
  {
   "cell_type": "code",
   "execution_count": null,
   "metadata": {},
   "outputs": [],
   "source": [
    "dataset.drop(columns=[\"Utc Timestamp\"], inplace=True)"
   ]
  },
  {
   "cell_type": "code",
   "execution_count": null,
   "metadata": {},
   "outputs": [],
   "source": [
    "dataset"
   ]
  },
  {
   "cell_type": "code",
   "execution_count": null,
   "metadata": {},
   "outputs": [],
   "source": [
    "dataset.to_csv(mainFolder+\"AllSearchHistory.csv\", index=False)"
   ]
  },
  {
   "cell_type": "code",
   "execution_count": null,
   "metadata": {},
   "outputs": [],
   "source": [
    "# read all ViewingActivity files\n",
    "datalist = [pd.read_csv(sourceFolder+currFile) for currFile in listViewingActivity]\n",
    "dataset = pd.concat(datalist)"
   ]
  },
  {
   "cell_type": "code",
   "execution_count": null,
   "metadata": {},
   "outputs": [],
   "source": [
    "# Replace all ViewingActivity - Profile name\n",
    "dataset.replace({\"Profile Name\": ProfileNameDict},inplace=True)"
   ]
  },
  {
   "cell_type": "code",
   "execution_count": null,
   "metadata": {},
   "outputs": [],
   "source": [
    "# Replace all ViewingActivity - Device Type \n",
    "dataset.replace({\"Device Type\": DeviceTypesDict},inplace=True)"
   ]
  },
  {
   "cell_type": "code",
   "execution_count": null,
   "metadata": {},
   "outputs": [],
   "source": [
    "# Extrack Date & Time\n",
    "dataset['Date Viewed'] = pd.to_datetime(dataset[\"Start Time\"]).dt.date\n",
    "dataset['Time Viewed'] = pd.to_datetime(dataset[\"Start Time\"]).dt.time\n",
    "\n",
    "# Conevrt to common unit seconds\n",
    "dataset['Duration in Seconds'] = pd.to_timedelta(dataset[\"Duration\"]).dt.total_seconds()\n",
    "dataset['Bookmared in Seconds'] = pd.to_timedelta(dataset[\"Bookmark\"]).dt.total_seconds()"
   ]
  },
  {
   "cell_type": "code",
   "execution_count": null,
   "metadata": {},
   "outputs": [],
   "source": [
    "dataset.drop(columns=[\"Duration\", \"Bookmark\", \"Latest Bookmark\", \"Start Time\"], inplace=True)"
   ]
  },
  {
   "cell_type": "code",
   "execution_count": null,
   "metadata": {},
   "outputs": [],
   "source": [
    "dataset"
   ]
  },
  {
   "cell_type": "code",
   "execution_count": null,
   "metadata": {},
   "outputs": [],
   "source": [
    "dataset.to_csv(mainFolder+\"AllViewingActivity.csv\", index=False)"
   ]
  }
 ],
 "metadata": {
  "kernelspec": {
   "display_name": "Python 3",
   "language": "python",
   "name": "python3"
  },
  "language_info": {
   "codemirror_mode": {
    "name": "ipython",
    "version": 3
   },
   "file_extension": ".py",
   "mimetype": "text/x-python",
   "name": "python",
   "nbconvert_exporter": "python",
   "pygments_lexer": "ipython3",
   "version": "3.11.3"
  },
  "orig_nbformat": 4
 },
 "nbformat": 4,
 "nbformat_minor": 2
}
